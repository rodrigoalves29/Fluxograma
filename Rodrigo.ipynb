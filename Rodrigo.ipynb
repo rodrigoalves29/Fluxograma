{
  "nbformat": 4,
  "nbformat_minor": 0,
  "metadata": {
    "colab": {
      "provenance": [],
      "authorship_tag": "ABX9TyMkfzgj+8/N9Volb2tnt868",
      "include_colab_link": true
    },
    "kernelspec": {
      "name": "python3",
      "display_name": "Python 3"
    },
    "language_info": {
      "name": "python"
    }
  },
  "cells": [
    {
      "cell_type": "markdown",
      "metadata": {
        "id": "view-in-github",
        "colab_type": "text"
      },
      "source": [
        "<a href=\"https://colab.research.google.com/github/rodrigoalves29/Fluxograma/blob/main/Rodrigo.ipynb\" target=\"_parent\"><img src=\"https://colab.research.google.com/assets/colab-badge.svg\" alt=\"Open In Colab\"/></a>"
      ]
    },
    {
      "cell_type": "code",
      "execution_count": 23,
      "metadata": {
        "colab": {
          "base_uri": "https://localhost:8080/"
        },
        "id": "BS-PK0AW1Ph2",
        "outputId": "9e42eed2-63cc-45ad-ed24-07ab596a22fd"
      },
      "outputs": [
        {
          "output_type": "stream",
          "name": "stdout",
          "text": [
            "Digite o preço do item 1: 2\n",
            "Digite o preço do item 2: 3\n",
            "Digite o preço do item 3: 46\n",
            "\n",
            "Total da compra: R$ 51.00\n",
            "Digite um número inteiro (0 para sair): 6\n",
            "Digite um número inteiro (0 para sair): 6\n",
            "Digite um número inteiro (0 para sair): 0\n",
            "Quantidade de números pares: 2\n",
            "Quantidade de números ímpares: 0\n",
            "Tente adivinhar o número secreto! Você tem 3 tentativas\n",
            "Digite um palpite:1\n",
            "Tente um número maior.\n",
            "Digite um palpite:2\n",
            "Tente um número maior.\n",
            "Digite um palpite:4\n",
            "Tente um número maior.\n",
            "Suas tentativas acabaram. O número secreto era 6073.\n"
          ]
        }
      ],
      "source": [
        "#Atividade1\n",
        "total = 0\n",
        "count = 0\n",
        "\n",
        "while count < 3:\n",
        "    try:\n",
        "        preco_str = input(f\"Digite o preço do item {count + 1}: \")\n",
        "        preco = float(preco_str)\n",
        "        total += preco\n",
        "        count += 1\n",
        "    except ValueError:\n",
        "        print(\"Entrada inválida. Por favor, digite um número.\")\n",
        "\n",
        "print(f\"\\nTotal da compra: R$ {total:.2f}\")\n",
        "\n",
        "#Atividade2\n",
        "numero_par = 0\n",
        "numero_impar = 0\n",
        "\n",
        "numero = int(input(\"Digite um número inteiro (0 para sair): \"))\n",
        "while numero != 0:\n",
        "    if numero % 2 == 0:\n",
        "        numero_par += 1\n",
        "    else:\n",
        "        numero_impar += 1\n",
        "    numero = int(input(\"Digite um número inteiro (0 para sair): \"))\n",
        "\n",
        "\n",
        "print(f\"Quantidade de números pares: {numero_par}\")\n",
        "print(f\"Quantidade de números ímpares: {numero_impar}\")\n",
        "\n",
        "#Atividade3\n",
        "numero_secreto = 6073\n",
        "tentativas = 0\n",
        "\n",
        "print(\"Tente adivinhar o número secreto! Você tem 3 tentativas\")\n",
        "\n",
        "while tentativas < 3:\n",
        "    try:\n",
        "        palpite = int(input(\"Digite um palpite:\"))\n",
        "        if palpite == numero_secreto:\n",
        "            print(\"Parabéns! Você acertou o número secreto!\")\n",
        "            break\n",
        "        elif palpite < numero_secreto:\n",
        "            print(\"Tente um número maior.\")\n",
        "            tentativas += 1\n",
        "        elif palpite > numero_secreto:\n",
        "            print(\"Tente um número menor.\")\n",
        "            tentativas += 1\n",
        "    except ValueError:\n",
        "        print(\"Entrada inválida. Por favor, digite um número inteiro.\")\n",
        "if tentativas == 3 and palpite != numero_secreto:\n",
        "    print(f\"Suas tentativas acabaram. O número secreto era {numero_secreto}.\")"
      ]
    }
  ]
}